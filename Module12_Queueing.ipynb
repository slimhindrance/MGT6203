{
 "cells": [
  {
   "cell_type": "code",
   "execution_count": 2,
   "metadata": {},
   "outputs": [
    {
     "data": {
      "text/plain": [
       "'\\n2 hour interval:\\n    58c/hr\\nservice w 4 counters = 60c/hr\\n\\nM/M/1 model\\n\\n'"
      ]
     },
     "execution_count": 2,
     "metadata": {},
     "output_type": "execute_result"
    }
   ],
   "source": [
    "\"\"\"\n",
    "2 hour interval:\n",
    "    58c/hr\n",
    "service w 4 counters = 60c/hr\n",
    "\n",
    "M/M/1 model\n",
    "\n",
    "\"\"\""
   ]
  },
  {
   "cell_type": "code",
   "execution_count": 3,
   "metadata": {},
   "outputs": [
    {
     "data": {
      "text/plain": [
       "'variable arrival rate\\nf(t) = _lambda*exp(-_lambda*t)\\n\\nor \\nPoisson distribution\\n\\nset time =T\\nPt(n) = (_lambda*T)^n\\n\\nprob over T, that n customer'"
      ]
     },
     "execution_count": 3,
     "metadata": {},
     "output_type": "execute_result"
    }
   ],
   "source": [
    "\"\"\"variable arrival rate\n",
    "f(t) = _lambda*exp(-_lambda*t)\n",
    "\n",
    "or \n",
    "Poisson distribution\n",
    "\n",
    "set time =T\n",
    "Pt(n) = (_lambda*T)^n\n",
    "\n",
    "prob over T, that n customer\"\"\""
   ]
  },
  {
   "cell_type": "code",
   "execution_count": 4,
   "metadata": {},
   "outputs": [],
   "source": [
    "#FCFS (first come first serve) or other service model?"
   ]
  },
  {
   "cell_type": "code",
   "execution_count": 5,
   "metadata": {},
   "outputs": [],
   "source": [
    "mu = 'avg service rate'\n",
    "#mu constant or variable?\n",
    "     #machine      people\n",
    "    \n",
    "#number of channel (people, counters, machines, etc.)\n",
    "\n",
    "#phases (number of steps)"
   ]
  },
  {
   "cell_type": "code",
   "execution_count": 6,
   "metadata": {},
   "outputs": [],
   "source": [
    "#modeling variable service rates\n",
    "#f(t) = mu*exp(-me*t)\n"
   ]
  },
  {
   "cell_type": "code",
   "execution_count": null,
   "metadata": {},
   "outputs": [],
   "source": [
    "#exiting (back into system?   speed of reentry)\n"
   ]
  },
  {
   "cell_type": "markdown",
   "metadata": {},
   "source": [
    "# M/M/1 Model"
   ]
  },
  {
   "cell_type": "code",
   "execution_count": 37,
   "metadata": {},
   "outputs": [
    {
     "name": "stdout",
     "output_type": "stream",
     "text": [
      "Mean Service Rate: 20\n",
      "Utilization: 0.75\n",
      "Average customers in system: 3.0\n",
      "Average customers in queue: 2.25\n",
      "Average Time in system: 0.2 hours = 12.0 minutes\n",
      "Average Time in queue: 0.15 = 9.0 minutes\n",
      "\n"
     ]
    }
   ],
   "source": [
    "#mu = mean service rate\n",
    "#_lambda = mean arrival rate\n",
    "\n",
    "\"\"\"utilization = _lambda/mu #rho\n",
    "avg_customers_in_system = _lambda/(mu-_lambda) #L_sub_system\n",
    "avg_customers_in_queue = (_lambda**_lambda)/(mu*(mu-_lambda)) # L_sub_queue\n",
    "avg_time_system = 1/(mu-_lambda) # W_suB_sys\n",
    "avg_time_queue = _lambda/(mu*(mu-_lambda)) # W_sub_queue\n",
    "\"\"\"\n",
    "#prob_n_units_system = (1-_lambda/mu)*(_lambda/mu**n) #(1-utilization)*utilization**n  :: P(n)\n",
    "\n",
    "def MM1(mu, _lambda):\n",
    "    utilization = _lambda/mu #rho\n",
    "    avg_customers_in_system = _lambda/(mu-_lambda) #L_sub_system\n",
    "    avg_customers_in_queue = (_lambda**2)/(mu*(mu-_lambda)) # L_sub_queue\n",
    "    avg_time_system = 1/(mu-_lambda) # W_suB_sys\n",
    "    avg_time_queue = _lambda/(mu*(mu-_lambda))\n",
    "    \n",
    "    return print(\"Mean Service Rate: {}\\n\"\n",
    "        \"Utilization: {}\\n\"\n",
    "                \"Average customers in system: {}\\n\"\n",
    "                 \"Average customers in queue: {}\\n\"\n",
    "                 \"Average Time in system: {} hours = {} minutes\\n\"\n",
    "                 \"Average Time in queue: {} = {} minutes\\n\".format(mu,utilization,avg_customers_in_system,avg_customers_in_queue, avg_time_system, avg_time_system*60, avg_time_queue, avg_time_queue*60 ))#.format(round(avg_customers_in_system, 2))\\n\n",
    "                 #\"Average customers in queue: {}\".format(round(avg_customers_in_queue, 2))\\n\n",
    "\n",
    "MM1(mu=20,_lambda=15)"
   ]
  },
  {
   "cell_type": "code",
   "execution_count": 38,
   "metadata": {},
   "outputs": [
    {
     "name": "stdout",
     "output_type": "stream",
     "text": [
      "Mean Service Rate: 65\n",
      "Utilization: 0.8923076923076924\n",
      "Average customers in system: 8.285714285714286\n",
      "Average customers in queue: 7.393406593406594\n",
      "Average Time in system: 0.14285714285714285 hours = 8.571428571428571 minutes\n",
      "Average Time in queue: 0.12747252747252746 = 7.648351648351648 minutes\n",
      "\n"
     ]
    }
   ],
   "source": [
    "MM1(mu=65, _lambda=58)"
   ]
  },
  {
   "cell_type": "code",
   "execution_count": null,
   "metadata": {},
   "outputs": [],
   "source": []
  }
 ],
 "metadata": {
  "kernelspec": {
   "display_name": "Python 3",
   "language": "python",
   "name": "python3"
  },
  "language_info": {
   "codemirror_mode": {
    "name": "ipython",
    "version": 3
   },
   "file_extension": ".py",
   "mimetype": "text/x-python",
   "name": "python",
   "nbconvert_exporter": "python",
   "pygments_lexer": "ipython3",
   "version": "3.8.5"
  }
 },
 "nbformat": 4,
 "nbformat_minor": 4
}
